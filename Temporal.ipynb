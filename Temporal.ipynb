{
 "cells": [
  {
   "cell_type": "code",
   "execution_count": 2,
   "metadata": {},
   "outputs": [
    {
     "name": "stderr",
     "output_type": "stream",
     "text": [
      "[nltk_data] Downloading package wordnet to\n",
      "[nltk_data]     C:\\Users\\nikov\\AppData\\Roaming\\nltk_data...\n",
      "[nltk_data]   Package wordnet is already up-to-date!\n",
      "[nltk_data] Downloading package stopwords to\n",
      "[nltk_data]     C:\\Users\\nikov\\AppData\\Roaming\\nltk_data...\n",
      "[nltk_data]   Package stopwords is already up-to-date!\n",
      "[nltk_data] Downloading package punkt to\n",
      "[nltk_data]     C:\\Users\\nikov\\AppData\\Roaming\\nltk_data...\n",
      "[nltk_data]   Package punkt is already up-to-date!\n"
     ]
    }
   ],
   "source": [
    "import pymorphy2\n",
    "\n",
    "from spacy.lang import ru\n",
    "from nltk.stem.snowball import SnowballStemmer \n",
    "import nltk\n",
    "from nltk.stem.wordnet import WordNetLemmatizer\n",
    "nltk.download('wordnet')\n",
    "from nltk.corpus import wordnet as wn\n",
    "nltk.download('stopwords')\n",
    "from nltk.tokenize import sent_tokenize\n",
    "nltk.download('punkt')\n",
    "from nltk.corpus import stopwords\n",
    "from nltk.tokenize import word_tokenize\n",
    "stop = set(nltk.corpus.stopwords.words('russian'))\n",
    "Unused_chars=[':',',','.','-','\\n','?','!']\n",
    "stemmer = SnowballStemmer('russian')\n",
    "morph = pymorphy2.MorphAnalyzer()\n",
    "\n",
    "\n",
    "def tokenize(file_text):\n",
    "    tokens = word_tokenize(file_text)\n",
    "    tokens = [i for i in tokens if (i not in stop)]\n",
    "    tokens = [i.replace(\"«\", \"\").replace(\"»\", \"\") for i in tokens]\n",
    "    return tokens\n",
    "\n",
    "\n",
    "def prepare_text_for_lda(text):\n",
    "    tokens = tokenize(text)\n",
    "    tokens = [token for token in tokens if len(token) > 2]\n",
    "    tokens = [get_lemma(token) for token in tokens]\n",
    "    tokens = [morph.parse(token)[0].normal_form for token in tokens]\n",
    "    return tokens\n",
    "\n",
    "def get_lemma(word):\n",
    "    lemma = wn.morphy(word)\n",
    "    if lemma is None:\n",
    "        return word\n",
    "    else:\n",
    "        return lemma\n",
    "    \n",
    "\n",
    "def get_lemma2(word):\n",
    "    return WordNetLemmatizer().lemmatize(word)\n",
    "\n"
   ]
  },
  {
   "cell_type": "code",
   "execution_count": 3,
   "metadata": {},
   "outputs": [
    {
     "name": "stderr",
     "output_type": "stream",
     "text": [
      "[nltk_data] Downloading package wordnet to\n",
      "[nltk_data]     C:\\Users\\nikov\\AppData\\Roaming\\nltk_data...\n",
      "[nltk_data]   Package wordnet is already up-to-date!\n",
      "[nltk_data] Downloading package stopwords to\n",
      "[nltk_data]     C:\\Users\\nikov\\AppData\\Roaming\\nltk_data...\n",
      "[nltk_data]   Package stopwords is already up-to-date!\n"
     ]
    },
    {
     "name": "stdout",
     "output_type": "stream",
     "text": [
      "['ми-24', 'советский', 'ударный', 'вертолёт', 'гремучий', 'смесь', 'штурмовик', 'боев', 'машина', 'пехота', 'этот', 'тяжеловооружённый', 'защитить', 'бронь', 'невероятно', 'живучий', 'вертолёт', 'участник', 'множество', 'конфликт', 'прекрасно', 'зарекомендовать', 'изначально', 'разработать', 'классический', 'война', 'европейский', 'театр', 'военный', 'действие', 'поздний', 'оказаться', 'ми-24', 'прекрасно', 'подходить', 'локальный', 'конфликт', 'борьба', 'партизан', 'вертолёт', 'ми-24', 'армия', 'прозвать', 'крокодил', 'это', 'настоящий', 'символ', 'афганский', 'война']\n",
      "['ударный', 'вертолёт', 'ми-24', 'иметь', 'множество', 'модификация', 'производство', 'продолжаться', 'наш', 'день', 'этот', 'вертолёт', 'являться', 'второе', 'массовость', 'американский', 'вертолёт', 'ah-64', 'apache', 'настоящий', 'момент', 'ми-24', 'стоить', 'вооружение', 'несколько', 'десяток', 'армия', 'мир', 'произвести', '3,5', 'тысяча', 'единица', 'машина']\n"
     ]
    }
   ],
   "source": [
    "import pymorphy2\n",
    "import nltk\n",
    "from nltk.stem.wordnet import WordNetLemmatizer\n",
    "nltk.download('wordnet')\n",
    "from nltk.corpus import wordnet as wn\n",
    "nltk.download('stopwords')\n",
    "stop = set(nltk.corpus.stopwords.words('russian'))\n",
    "morph = pymorphy2.MorphAnalyzer()\n",
    "\n",
    "\n",
    "def tokenize(file_text):\n",
    "    tokens = word_tokenize(file_text)\n",
    "    tokens = [i for i in tokens if (i not in stop)]\n",
    "    tokens = [i.replace(\"«\", \"\").replace(\"»\", \"\") for i in tokens]\n",
    "    return tokens\n",
    "\n",
    "\n",
    "def prepare_text_for_lda(text):\n",
    "    tokens = tokenize(text)\n",
    "    tokens = [token for token in tokens if len(token) > 2]\n",
    "    tokens = [get_lemma(token) for token in tokens]\n",
    "    tokens = [morph.parse(token)[0].normal_form for token in tokens]\n",
    "    return tokens\n",
    "\n",
    "def get_lemma(word):\n",
    "    lemma = wn.morphy(word)\n",
    "    if lemma is None:\n",
    "        return word\n",
    "    else:\n",
    "        return lemma\n",
    "    \n",
    "\n",
    "def get_lemma2(word):\n",
    "    return WordNetLemmatizer().lemmatize(word)\n",
    "\n",
    "with open('Reserved\\Mi.txt',encoding='utf-8') as f:\n",
    "    for line in f:\n",
    "        tokens = prepare_text_for_lda(line)\n",
    "        print(tokens)\n"
   ]
  },
  {
   "cell_type": "code",
   "execution_count": 8,
   "metadata": {},
   "outputs": [
    {
     "name": "stdout",
     "output_type": "stream",
     "text": [
      "[Parse(word='недостаточно стали для меча', tag=OpencorporaTag('NOUN,inan,masc sing,gent'), normal_form='недостаточно стали для меч', score=1.0, methods_stack=((<FakeDictionary>, 'статочно стали для меча', 134, 1), (<KnownSuffixAnalyzer>, 'меча'), (<KnownPrefixAnalyzer>, 'недо')))]\n"
     ]
    }
   ],
   "source": [
    "p=morph.parse('Недостаточно стали для меча')\n",
    "print(p)"
   ]
  },
  {
   "cell_type": "code",
   "execution_count": null,
   "metadata": {},
   "outputs": [],
   "source": []
  }
 ],
 "metadata": {
  "kernelspec": {
   "display_name": "Python 3",
   "language": "python",
   "name": "python3"
  },
  "language_info": {
   "codemirror_mode": {
    "name": "ipython",
    "version": 3
   },
   "file_extension": ".py",
   "mimetype": "text/x-python",
   "name": "python",
   "nbconvert_exporter": "python",
   "pygments_lexer": "ipython3",
   "version": "3.7.1"
  }
 },
 "nbformat": 4,
 "nbformat_minor": 2
}
